{
 "cells": [
  {
   "cell_type": "code",
   "execution_count": 23,
   "metadata": {},
   "outputs": [],
   "source": [
    "import numpy as np\n",
    "import scipy as sc\n",
    "import matplotlib.pyplot as plt\n",
    "%matplotlib inline\n",
    "import seaborn as sns\n",
    "sns.set_style('darkgrid')\n",
    "import pandas as pd\n",
    "from sklearn import svm, metrics, model_selection, linear_model\n",
    "from datetime import date, timedelta\n",
    "import datetime\n",
    "import pytz"
   ]
  },
  {
   "cell_type": "markdown",
   "metadata": {},
   "source": [
    "# Extraction of the data"
   ]
  },
  {
   "cell_type": "code",
   "execution_count": 24,
   "metadata": {},
   "outputs": [],
   "source": [
    "url='https://raw.githubusercontent.com/CSSEGISandData/COVID-19/master/csse_covid_19_data/'\n",
    "daily='csse_covid_19_daily_reports/' #+date in the form  01-22-2020.csv\n",
    "time_serie='csse_covid_19_time_series/' #+confirmed, death,recovered\n",
    "confirmed_data='time_series_covid19_confirmed_global.csv'\n",
    "death_data='time_series_covid19_deaths_global.csv'\n",
    "recovered_data='time_series_covid19_recovered_global.csv'"
   ]
  },
  {
   "cell_type": "code",
   "execution_count": 25,
   "metadata": {},
   "outputs": [],
   "source": [
    "confirmed=pd.read_csv(url+time_serie+confirmed_data)\n",
    "dead=pd.read_csv(url+time_serie+death_data)\n",
    "recovered=pd.read_csv(url+time_serie+recovered_data)"
   ]
  },
  {
   "cell_type": "code",
   "execution_count": 26,
   "metadata": {},
   "outputs": [
    {
     "name": "stdout",
     "output_type": "stream",
     "text": [
      "06-26-2020\n",
      "2020-06-26\n",
      "06-26-2020 06-06-2020\n"
     ]
    }
   ],
   "source": [
    "def make_date(a,b,c,d): \n",
    "    #convert a date in (day,month) format to a string to feed in the read_csv function\n",
    "    day=str(a*10+b)\n",
    "    month=str(10*c+d)\n",
    "    if len(day)==1:\n",
    "        day='0'+day\n",
    "    if len(month)==1:\n",
    "        month='0'+month \n",
    "    date=month+'-'+day+'-2020'\n",
    "    return date\n",
    "today = str(date.today())\n",
    "a=int(today[5])\n",
    "b=int(today[6])\n",
    "c=int(today[8])\n",
    "d=int(today[9])\n",
    "today=make_date(c,d,a,b)\n",
    "print(today)\n",
    "def add_xday(a,b,c,d,x):\n",
    "    day=c*10+d\n",
    "    month=10*a+b\n",
    "    if month==4 or month==6:\n",
    "        endmonth=30\n",
    "    else:\n",
    "        endmonth=31\n",
    "    newday=day+x\n",
    "    if newday>endmonth:\n",
    "        month+=1\n",
    "        newday=newday-endmonth\n",
    "        a=int(newday/10)\n",
    "        b=newday-a\n",
    "        \n",
    "    return make_date(a,b,0,month)\n",
    "\n",
    "def subdate (date):\n",
    "    a=date[0]\n",
    "    b=date[1]\n",
    "    c=date[3]\n",
    "    d=date[4]\n",
    "    return '2020-'+a+b+'-'+c+d\n",
    "print(subdate(today))\n",
    "todayplus2=add_xday(a,b,c,d,2)\n",
    "todayplusweek=add_xday(a,b,c,d,7)\n",
    "print(today,todayplus2)"
   ]
  },
  {
   "cell_type": "code",
   "execution_count": null,
   "metadata": {},
   "outputs": [],
   "source": [
    "\n"
   ]
  },
  {
   "cell_type": "code",
   "execution_count": 27,
   "metadata": {},
   "outputs": [
    {
     "data": {
      "text/plain": [
       "4"
      ]
     },
     "execution_count": 27,
     "metadata": {},
     "output_type": "execute_result"
    }
   ],
   "source": [
    "int(47/10)"
   ]
  },
  {
   "cell_type": "code",
   "execution_count": 28,
   "metadata": {},
   "outputs": [
    {
     "ename": "TypeError",
     "evalue": "string indices must be integers",
     "output_type": "error",
     "traceback": [
      "\u001b[0;31m---------------------------------------------------------------------------\u001b[0m",
      "\u001b[0;31mTypeError\u001b[0m                                 Traceback (most recent call last)",
      "\u001b[0;32m<ipython-input-28-52f1dc35bb2f>\u001b[0m in \u001b[0;36m<module>\u001b[0;34m\u001b[0m\n\u001b[1;32m     25\u001b[0m                 \u001b[0mst\u001b[0m\u001b[0;34m=\u001b[0m\u001b[0;34m'Province_State'\u001b[0m\u001b[0;34m\u001b[0m\u001b[0;34m\u001b[0m\u001b[0m\n\u001b[1;32m     26\u001b[0m                 \u001b[0mcountry\u001b[0m\u001b[0;34m=\u001b[0m\u001b[0;34m'Country_Region'\u001b[0m\u001b[0;34m\u001b[0m\u001b[0;34m\u001b[0m\u001b[0m\n\u001b[0;32m---> 27\u001b[0;31m             \u001b[0;32mfor\u001b[0m \u001b[0mi\u001b[0m\u001b[0;34m,\u001b[0m \u001b[0mstate\u001b[0m \u001b[0;32min\u001b[0m \u001b[0menumerate\u001b[0m\u001b[0;34m(\u001b[0m\u001b[0mtoday\u001b[0m\u001b[0;34m[\u001b[0m\u001b[0mst\u001b[0m\u001b[0;34m]\u001b[0m\u001b[0;34m)\u001b[0m\u001b[0;34m:\u001b[0m\u001b[0;34m\u001b[0m\u001b[0;34m\u001b[0m\u001b[0m\n\u001b[0m\u001b[1;32m     28\u001b[0m                 \u001b[0;32mif\u001b[0m \u001b[0mtoday_data\u001b[0m\u001b[0;34m[\u001b[0m\u001b[0mcountry\u001b[0m\u001b[0;34m]\u001b[0m\u001b[0;34m.\u001b[0m\u001b[0miloc\u001b[0m\u001b[0;34m[\u001b[0m\u001b[0mi\u001b[0m\u001b[0;34m]\u001b[0m\u001b[0;34m!=\u001b[0m\u001b[0;34m'US'\u001b[0m\u001b[0;34m:\u001b[0m\u001b[0;34m\u001b[0m\u001b[0;34m\u001b[0m\u001b[0m\n\u001b[1;32m     29\u001b[0m                     \u001b[0;32mpass\u001b[0m\u001b[0;34m\u001b[0m\u001b[0;34m\u001b[0m\u001b[0m\n",
      "\u001b[0;31mTypeError\u001b[0m: string indices must be integers"
     ]
    }
   ],
   "source": [
    "#This cell save the data for the us in a dictionary us_data. Pay attention to adjuste to if statement to\n",
    "#adjust it at the current date. The value of the dict are dataframe with: first ligne:confirme case, second: dead, \n",
    "#third: recovered. the columns are the different dates\n",
    "us_data={}\n",
    "total_state=[]\n",
    "for month in range(1,7):\n",
    "    for day in range(1,32):\n",
    "        if month==1 and day<23:\n",
    "            pass\n",
    "        elif month==2 and day>29:\n",
    "            pass\n",
    "        elif month==4 and day>7:\n",
    "            pass\n",
    "        elif month==6 and day>9:\n",
    "            pass\n",
    "        else:\n",
    "            a=int(day/10)\n",
    "            dat=make_date(a,day-a*10,0,month)\n",
    "            #print(dat)\n",
    "            today_data=pd.read_csv(url+daily+dat+'.csv')\n",
    "            if month<3 or (month==3 and day<22):\n",
    "                st='Province/State'\n",
    "                country='Country/Region'\n",
    "            else:\n",
    "                st='Province_State'\n",
    "                country='Country_Region'\n",
    "            for i, state in enumerate(today[st]):\n",
    "                if today_data[country].iloc[i]!='US':\n",
    "                    pass\n",
    "                else:\n",
    "                    if state not in total_state:\n",
    "                        total_state.append(state)\n",
    "                        us_data[state]=pd.DataFrame()\n",
    "                        us_data[state][dat]=np.array([today_data['Confirmed'].iloc[i],today_data['Deaths'].iloc[i],today_data['Recovered'].iloc[i]])\n",
    "                    elif dat not in us_data[state].columns:\n",
    "                        us_data[state][dat]=np.array([today_data['Confirmed'].iloc[i],today_data['Deaths'].iloc[i],today_data['Recovered'].iloc[i]])\n",
    "                    else:\n",
    "                        us_data[state][dat]+=np.array([today_data['Confirmed'].iloc[i],today_data['Deaths'].iloc[i],today_data['Recovered'].iloc[i]])\n",
    "                        \n",
    "                    \n",
    "  \n"
   ]
  },
  {
   "cell_type": "code",
   "execution_count": null,
   "metadata": {},
   "outputs": [],
   "source": [
    "# coronavirus progression plot for any state in the us: just pick one\n",
    "state='New York'\n",
    "time=np.arange(len(us_data[state].iloc[0,:]))\n",
    "plt.figure()\n",
    "plt.title('Coronavirus progression in '+state)\n",
    "plt.xlabel('day after the first case ('+us_data[state].columns[0]+')')\n",
    "plt.ylabel('number of case')\n",
    "plt.plot(time,us_data[state].iloc[0,:],'b.',label='confirmed')\n",
    "plt.plot(time,us_data[state].iloc[1,:],'r.',label='dead')\n",
    "plt.plot(time,us_data[state].iloc[2,:],'g.',label='recovered')\n",
    "plt.legend()\n",
    "#plt.xlim()\n",
    "plt.show()"
   ]
  },
  {
   "cell_type": "markdown",
   "metadata": {},
   "source": [
    "# Data Exploration"
   ]
  },
  {
   "cell_type": "code",
   "execution_count": 29,
   "metadata": {
    "scrolled": true
   },
   "outputs": [
    {
     "data": {
      "image/png": "[encoded data removed]",
      "text/plain": [
       "<Figure size 432x288 with 1 Axes>"
      ]
     },
     "metadata": {},
     "output_type": "display_data"
    }
   ],
   "source": [
    "confirmed_italy=confirmed.iloc[137,4:]\n",
    "dead_italy=dead.iloc[137,4:]\n",
    "recovered_italy=recovered.iloc[137,4:]\n",
    "confirmed_italy\n",
    "time=np.arange(len(confirmed_italy))\n",
    "plt.figure()\n",
    "plt.title('Confirmed Case in Italy')\n",
    "plt.xlabel('day after 01-20-2020')\n",
    "plt.ylabel('number of case')\n",
    "plt.plot(time,confirmed_italy,'b.',label='confirmed')\n",
    "plt.plot(time,dead_italy,'r.',label='dead')\n",
    "plt.plot(time,recovered_italy,'g.',label='recovered')\n",
    "plt.legend()\n",
    "plt.xlim(30)\n",
    "plt.show()"
   ]
  },
  {
   "cell_type": "code",
   "execution_count": 65,
   "metadata": {},
   "outputs": [
    {
     "data": {
      "image/png": "[encoded data removed]",
      "text/plain": [
       "<Figure size 432x288 with 1 Axes>"
      ]
     },
     "metadata": {},
     "output_type": "display_data"
    },
    {
     "name": "stdout",
     "output_type": "stream",
     "text": [
      "21657\n"
     ]
    }
   ],
   "source": [
    "l=80\n",
    "confirmed_swiss=confirmed.iloc[206,4:l]\n",
    "dead_swiss=dead.iloc[206,4:l]\n",
    "recovered_swiss=recovered.iloc[206,4:l]\n",
    "confirmed_swiss\n",
    "time=np.arange(len(confirmed_swiss))\n",
    "plt.figure()\n",
    "plt.title('Confirmed Case in Switzerland')\n",
    "plt.xlabel('day after 01-20-2020')\n",
    "plt.ylabel('number of case')\n",
    "plt.plot(time,confirmed_swiss,'b.',label='confirmed')\n",
    "plt.plot(time,dead_swiss,'r.',label='dead')\n",
    "plt.plot(time,recovered_swiss,'g.',label='recovered')\n",
    "plt.legend()\n",
    "plt.xlim(40)\n",
    "plt.show()\n",
    "print(confirmed_swiss[-1])"
   ]
  },
  {
   "cell_type": "code",
   "execution_count": 66,
   "metadata": {},
   "outputs": [
    {
     "name": "stdout",
     "output_type": "stream",
     "text": [
      "06-06-2020\n"
     ]
    },
    {
     "data": {
      "text/html": [
       "<div>\n",
       "<style scoped>\n",
       "    .dataframe tbody tr th:only-of-type {\n",
       "        vertical-align: middle;\n",
       "    }\n",
       "\n",
       "    .dataframe tbody tr th {\n",
       "        vertical-align: top;\n",
       "    }\n",
       "\n",
       "    .dataframe thead th {\n",
       "        text-align: right;\n",
       "    }\n",
       "</style>\n",
       "<table border=\"1\" class=\"dataframe\">\n",
       "  <thead>\n",
       "    <tr style=\"text-align: right;\">\n",
       "      <th></th>\n",
       "      <th>Province/State</th>\n",
       "      <th>Country</th>\n",
       "      <th>Target/Date</th>\n",
       "      <th>N</th>\n",
       "      <th>R</th>\n",
       "      <th>D</th>\n",
       "    </tr>\n",
       "  </thead>\n",
       "  <tbody>\n",
       "    <tr>\n",
       "      <td>0</td>\n",
       "      <td>NaN</td>\n",
       "      <td>Switzerland</td>\n",
       "      <td>2020-07-03</td>\n",
       "      <td>0</td>\n",
       "      <td>0</td>\n",
       "      <td>0</td>\n",
       "    </tr>\n",
       "  </tbody>\n",
       "</table>\n",
       "</div>"
      ],
      "text/plain": [
       "   Province/State      Country Target/Date  N  R  D\n",
       "0             NaN  Switzerland  2020-07-03  0  0  0"
      ]
     },
     "execution_count": 66,
     "metadata": {},
     "output_type": "execute_result"
    }
   ],
   "source": [
    "prediction_2days_swiss=pd.DataFrame()\n",
    "print( todayplus2)\n",
    "prediction_2days_swiss['Province/State']=[]\n",
    "prediction_2days_swiss['Country']=['Switzerland']\n",
    "prediction_2days_swiss['Target/Date']=[subdate(todayplus2)]\n",
    "prediction_2days_swiss['N']=[0]\n",
    "prediction_2days_swiss['R']=[0]\n",
    "prediction_2days_swiss['D']=[0]\n",
    "\n",
    "prediction_7days_swiss=pd.DataFrame()\n",
    "prediction_7days_swiss['Province/State']=[]\n",
    "prediction_7days_swiss['Country']=['Switzerland']\n",
    "prediction_7days_swiss['Target/Date']=[subdate(todayplusweek)]\n",
    "prediction_7days_swiss['N']=[0]\n",
    "prediction_7days_swiss['R']=[0]\n",
    "prediction_7days_swiss['D']=[0]\n",
    "\n",
    "prediction_7days_swiss"
   ]
  },
  {
   "cell_type": "markdown",
   "metadata": {},
   "source": [
    "Contaminated Prediction for the next day in Switzerland\n",
    "\n",
    "Method: using previous day to predict next: using the model on the last data point to predict tomorrow"
   ]
  },
  {
   "cell_type": "markdown",
   "metadata": {},
   "source": [
    "# Training for Switzerland"
   ]
  },
  {
   "cell_type": "code",
   "execution_count": null,
   "metadata": {
    "scrolled": true
   },
   "outputs": [],
   "source": [
    "for i,s in enumerate(confirmed_swiss):\n",
    "    if s==0:\n",
    "        pass\n",
    "    if s!=0:\n",
    "        start=i\n",
    "        break\n",
    "#modelling for the swiss case\n",
    "N=8.57*10**6\n",
    "#start parameter\n",
    "beta=1\n",
    "gamma=1\n",
    "S=[] #possible \n",
    "I=[] #infected\n",
    "R=[] #removed (dead+cured)\n",
    "for i in range (len(confirmed_swiss)):\n",
    "    if i<start:\n",
    "        pass\n",
    "    else:\n",
    "        I.append(confirmed_swiss[i])\n",
    "        R.append(recovered_swiss[i]+dead_swiss[start])\n",
    "        S.append(N-I[-1]-R[-1])\n",
    "model=linear_model.Ridge()\n",
    "X=pd.DataFrame()\n",
    "X['St']=np.array(S[1:-2])\n",
    "X['It']=np.array(I[1:-2])\n",
    "X['Rt']=np.array(R[1:-2])\n",
    "X['SI']=X['St']*X['It']\n",
    "X_last_day=pd.DataFrame()\n",
    "X_last_day['S']=np.array(S[-1:])\n",
    "X_last_day['I']=np.array(I[-1:])\n",
    "X_last_day['R']=np.array(R[-1:])\n",
    "X_last_day['SI']=X_last_day['S']*X_last_day['I']\n",
    "y=pd.DataFrame()\n",
    "prediction_next_day=pd.DataFrame()\n",
    "y['St+1']=np.array(S[2:-1])\n",
    "y['It+1']=np.array(I[2:-1])\n",
    "y['Rt+1']=np.array(R[2:-1])\n",
    "X_betwenn=np.zeros((4,8))\n",
    "for j in range(8):\n",
    "    for i,col in enumerate(y.columns):\n",
    "        model=linear_model.Ridge()\n",
    "        model.fit(X,y[col])\n",
    "        if j==0:\n",
    "            X_betwenn[i,j]=model.predict((X_last_day))\n",
    "            if i==2:\n",
    "                X_betwenn[i+1,j]=X_betwenn[0,j]*X_betwenn[1,j]\n",
    "        else:\n",
    "            X_b=pd.DataFrame()\n",
    "            X_b['S']=np.array([X_betwenn[0,j-1],X_betwenn[0,j-1]])\n",
    "            X_b['I']=X_betwenn[1,j-1,...]\n",
    "            X_b['R']=X_betwenn[2,j-1,...]\n",
    "            X_b['SI']=X_betwenn[3,j-1,...]\n",
    "            X_betwenn[i,j]=model.predict((X_b))[0]\n",
    "            if i==2:\n",
    "                X_betwenn[i+1,j]=X_betwenn[0,j]*X_betwenn[1,j]\n",
    "print(X_betwenn[1,:])    \n",
    "prediction_next_day[today]=X_betwenn[1,:]\n",
    "print('prediction: ',prediction_next_day)\n",
    "prediction_next_day.to_csv('prediction_nextday_swiss.csv')"
   ]
  },
  {
   "cell_type": "code",
   "execution_count": 71,
   "metadata": {
    "scrolled": true
   },
   "outputs": [
    {
     "name": "stdout",
     "output_type": "stream",
     "text": [
      "06-26-2020\n",
      "2020-06-26\n"
     ]
    },
    {
     "name": "stderr",
     "output_type": "stream",
     "text": [
      "/home/okiss/anaconda3/lib/python3.7/site-packages/sklearn/linear_model/ridge.py:147: LinAlgWarning: Ill-conditioned matrix (rcond=5.96743e-21): result may not be accurate.\n",
      "  overwrite_a=True).T\n",
      "/home/okiss/anaconda3/lib/python3.7/site-packages/sklearn/linear_model/ridge.py:147: LinAlgWarning: Ill-conditioned matrix (rcond=5.96743e-21): result may not be accurate.\n",
      "  overwrite_a=True).T\n",
      "/home/okiss/anaconda3/lib/python3.7/site-packages/sklearn/linear_model/ridge.py:147: LinAlgWarning: Ill-conditioned matrix (rcond=5.96743e-21): result may not be accurate.\n",
      "  overwrite_a=True).T\n",
      "/home/okiss/anaconda3/lib/python3.7/site-packages/sklearn/linear_model/ridge.py:147: LinAlgWarning: Ill-conditioned matrix (rcond=5.96743e-21): result may not be accurate.\n",
      "  overwrite_a=True).T\n",
      "/home/okiss/anaconda3/lib/python3.7/site-packages/sklearn/linear_model/ridge.py:147: LinAlgWarning: Ill-conditioned matrix (rcond=5.96743e-21): result may not be accurate.\n",
      "  overwrite_a=True).T\n",
      "/home/okiss/anaconda3/lib/python3.7/site-packages/sklearn/linear_model/ridge.py:147: LinAlgWarning: Ill-conditioned matrix (rcond=5.96743e-21): result may not be accurate.\n",
      "  overwrite_a=True).T\n",
      "/home/okiss/anaconda3/lib/python3.7/site-packages/sklearn/linear_model/ridge.py:147: LinAlgWarning: Ill-conditioned matrix (rcond=5.96743e-21): result may not be accurate.\n",
      "  overwrite_a=True).T\n",
      "/home/okiss/anaconda3/lib/python3.7/site-packages/sklearn/linear_model/ridge.py:147: LinAlgWarning: Ill-conditioned matrix (rcond=5.96743e-21): result may not be accurate.\n",
      "  overwrite_a=True).T\n",
      "/home/okiss/anaconda3/lib/python3.7/site-packages/sklearn/linear_model/ridge.py:147: LinAlgWarning: Ill-conditioned matrix (rcond=5.96743e-21): result may not be accurate.\n",
      "  overwrite_a=True).T\n",
      "/home/okiss/anaconda3/lib/python3.7/site-packages/sklearn/linear_model/ridge.py:147: LinAlgWarning: Ill-conditioned matrix (rcond=5.96743e-21): result may not be accurate.\n",
      "  overwrite_a=True).T\n",
      "/home/okiss/anaconda3/lib/python3.7/site-packages/sklearn/linear_model/ridge.py:147: LinAlgWarning: Ill-conditioned matrix (rcond=5.96743e-21): result may not be accurate.\n",
      "  overwrite_a=True).T\n",
      "/home/okiss/anaconda3/lib/python3.7/site-packages/sklearn/linear_model/ridge.py:147: LinAlgWarning: Ill-conditioned matrix (rcond=5.96743e-21): result may not be accurate.\n",
      "  overwrite_a=True).T\n",
      "/home/okiss/anaconda3/lib/python3.7/site-packages/sklearn/linear_model/ridge.py:147: LinAlgWarning: Ill-conditioned matrix (rcond=5.96743e-21): result may not be accurate.\n",
      "  overwrite_a=True).T\n",
      "/home/okiss/anaconda3/lib/python3.7/site-packages/sklearn/linear_model/ridge.py:147: LinAlgWarning: Ill-conditioned matrix (rcond=5.96743e-21): result may not be accurate.\n",
      "  overwrite_a=True).T\n",
      "/home/okiss/anaconda3/lib/python3.7/site-packages/sklearn/linear_model/ridge.py:147: LinAlgWarning: Ill-conditioned matrix (rcond=5.96743e-21): result may not be accurate.\n",
      "  overwrite_a=True).T\n",
      "/home/okiss/anaconda3/lib/python3.7/site-packages/sklearn/linear_model/ridge.py:147: LinAlgWarning: Ill-conditioned matrix (rcond=5.96743e-21): result may not be accurate.\n",
      "  overwrite_a=True).T\n",
      "/home/okiss/anaconda3/lib/python3.7/site-packages/sklearn/linear_model/ridge.py:147: LinAlgWarning: Ill-conditioned matrix (rcond=5.96743e-21): result may not be accurate.\n",
      "  overwrite_a=True).T\n"
     ]
    },
    {
     "name": "stdout",
     "output_type": "stream",
     "text": [
      "[22151.15117253 22416.41931069 22440.01251645 22197.87125197\n",
      " 21659.54458997 20790.75537954 19554.84025726 17913.65689136]\n"
     ]
    },
    {
     "name": "stderr",
     "output_type": "stream",
     "text": [
      "/home/okiss/anaconda3/lib/python3.7/site-packages/sklearn/linear_model/ridge.py:147: LinAlgWarning: Ill-conditioned matrix (rcond=5.96743e-21): result may not be accurate.\n",
      "  overwrite_a=True).T\n",
      "/home/okiss/anaconda3/lib/python3.7/site-packages/sklearn/linear_model/ridge.py:147: LinAlgWarning: Ill-conditioned matrix (rcond=5.96743e-21): result may not be accurate.\n",
      "  overwrite_a=True).T\n",
      "/home/okiss/anaconda3/lib/python3.7/site-packages/sklearn/linear_model/ridge.py:147: LinAlgWarning: Ill-conditioned matrix (rcond=5.96743e-21): result may not be accurate.\n",
      "  overwrite_a=True).T\n",
      "/home/okiss/anaconda3/lib/python3.7/site-packages/sklearn/linear_model/ridge.py:147: LinAlgWarning: Ill-conditioned matrix (rcond=5.96743e-21): result may not be accurate.\n",
      "  overwrite_a=True).T\n",
      "/home/okiss/anaconda3/lib/python3.7/site-packages/sklearn/linear_model/ridge.py:147: LinAlgWarning: Ill-conditioned matrix (rcond=5.96743e-21): result may not be accurate.\n",
      "  overwrite_a=True).T\n",
      "/home/okiss/anaconda3/lib/python3.7/site-packages/sklearn/linear_model/ridge.py:147: LinAlgWarning: Ill-conditioned matrix (rcond=5.96743e-21): result may not be accurate.\n",
      "  overwrite_a=True).T\n",
      "/home/okiss/anaconda3/lib/python3.7/site-packages/sklearn/linear_model/ridge.py:147: LinAlgWarning: Ill-conditioned matrix (rcond=5.96743e-21): result may not be accurate.\n",
      "  overwrite_a=True).T\n",
      "/home/okiss/anaconda3/lib/python3.7/site-packages/sklearn/linear_model/ridge.py:147: LinAlgWarning: Ill-conditioned matrix (rcond=5.96743e-21): result may not be accurate.\n",
      "  overwrite_a=True).T\n",
      "/home/okiss/anaconda3/lib/python3.7/site-packages/sklearn/linear_model/ridge.py:147: LinAlgWarning: Ill-conditioned matrix (rcond=5.96743e-21): result may not be accurate.\n",
      "  overwrite_a=True).T\n",
      "/home/okiss/anaconda3/lib/python3.7/site-packages/sklearn/linear_model/ridge.py:147: LinAlgWarning: Ill-conditioned matrix (rcond=5.96743e-21): result may not be accurate.\n",
      "  overwrite_a=True).T\n",
      "/home/okiss/anaconda3/lib/python3.7/site-packages/sklearn/linear_model/ridge.py:147: LinAlgWarning: Ill-conditioned matrix (rcond=5.96743e-21): result may not be accurate.\n",
      "  overwrite_a=True).T\n",
      "/home/okiss/anaconda3/lib/python3.7/site-packages/sklearn/linear_model/ridge.py:147: LinAlgWarning: Ill-conditioned matrix (rcond=5.96743e-21): result may not be accurate.\n",
      "  overwrite_a=True).T\n",
      "/home/okiss/anaconda3/lib/python3.7/site-packages/sklearn/linear_model/ridge.py:147: LinAlgWarning: Ill-conditioned matrix (rcond=5.96743e-21): result may not be accurate.\n",
      "  overwrite_a=True).T\n",
      "/home/okiss/anaconda3/lib/python3.7/site-packages/sklearn/linear_model/ridge.py:147: LinAlgWarning: Ill-conditioned matrix (rcond=5.96743e-21): result may not be accurate.\n",
      "  overwrite_a=True).T\n",
      "/home/okiss/anaconda3/lib/python3.7/site-packages/sklearn/linear_model/ridge.py:147: LinAlgWarning: Ill-conditioned matrix (rcond=5.96743e-21): result may not be accurate.\n",
      "  overwrite_a=True).T\n"
     ]
    },
    {
     "data": {
      "text/plain": [
       "'2020-06-26'"
      ]
     },
     "execution_count": 71,
     "metadata": {},
     "output_type": "execute_result"
    }
   ],
   "source": [
    "##with dead as feature\n",
    "print(today)\n",
    "print(subdate(today))\n",
    "\n",
    "for i,s in enumerate(confirmed_swiss):\n",
    "    if s==0:\n",
    "        pass\n",
    "    if s!=0:\n",
    "        start=i\n",
    "        break\n",
    "#modelling for the swiss case\n",
    "N=8.57*10**6\n",
    "#start parameter\n",
    "beta=1\n",
    "gamma=1\n",
    "S=[] #possible \n",
    "I=[] #infected\n",
    "R=[] #recovered\n",
    "D=[]\n",
    "DR=[]\n",
    "for i in range (len(confirmed_swiss)):\n",
    "    if i<start:\n",
    "        pass\n",
    "    else:\n",
    "        I.append(confirmed_swiss[i])\n",
    "        R.append(recovered_swiss[i])\n",
    "        D.append(dead_swiss[i])\n",
    "        DR.append(recovered_swiss[i]+dead_swiss[i])\n",
    "        S.append(N-I[-1]-R[-1])\n",
    "model=linear_model.Ridge()\n",
    "X=pd.DataFrame()\n",
    "X['St']=np.array(S[1:-2])\n",
    "X['It']=np.array(I[1:-2])\n",
    "X['Rt']=np.array(R[1:-2])\n",
    "X['Dt']=np.array(D[1:-2])\n",
    "X['DRt']=np.array(DR[1:-2])\n",
    "X['SI']=X['St']*X['It']\n",
    "X_last_day=pd.DataFrame()\n",
    "X_last_day['S']=np.array(S[-1:])\n",
    "X_last_day['I']=np.array(I[-1:])\n",
    "X_last_day['R']=np.array(R[-1:])\n",
    "X_last_day['D']=np.array(D[-1:])\n",
    "X_last_day['DR']=np.array(DR[-1:])\n",
    "X_last_day['SI']=X_last_day['S']*X_last_day['I']\n",
    "y=pd.DataFrame()\n",
    "prediction_next_day=pd.DataFrame()\n",
    "y['St+1']=np.array(S[2:-1])\n",
    "y['It+1']=np.array(I[2:-1])\n",
    "y['Rt+1']=np.array(R[2:-1])\n",
    "y['Dt+1']=np.array(D[2:-1])\n",
    "X_betwenn=np.zeros((6,8))\n",
    "score=[]\n",
    "for j in range(8):\n",
    "    for i,col in enumerate(y.columns):\n",
    "        model=linear_model.Ridge(alpha=1000,normalize=False)\n",
    "        model.fit(X,y[col])\n",
    "        if j==0:\n",
    "            X_betwenn[i,j]=model.predict((X_last_day))\n",
    "            #score.append(model.score(X,y))\n",
    "            if i==3:\n",
    "                X_betwenn[i+1,j]=X_betwenn[2,j]+X_betwenn[3,j]\n",
    "                X_betwenn[i+2,j]=X_betwenn[0,j]*X_betwenn[1,j]\n",
    "        else:\n",
    "            X_b=pd.DataFrame()\n",
    "            X_b['S']=np.array([X_betwenn[0,j-1],X_betwenn[0,j-1]])\n",
    "            X_b['I']=X_betwenn[1,j-1,...]\n",
    "            X_b['R']=X_betwenn[2,j-1,...]\n",
    "            X_b['D']=X_betwenn[3,j-1,...]\n",
    "            X_b['DR']=X_betwenn[4,j-1,...]\n",
    "            X_b['SI']=X_betwenn[5,j-1,...]\n",
    "            X_betwenn[i,j]=model.predict((X_b))[0]\n",
    "            if i==3:\n",
    "                X_betwenn[i+1,j]=X_betwenn[2,j]+X_betwenn[3,j]\n",
    "                X_betwenn[i+2,j]=X_betwenn[0,j]*X_betwenn[1,j]\n",
    "print(X_betwenn[1,:])    \n",
    "X_swiss=X_betwenn\n",
    "prediction_2days_swiss['N']=int(X_betwenn[1,1])\n",
    "prediction_2days_swiss['R']=int(X_betwenn[2,1])\n",
    "prediction_2days_swiss['D']=int(X_betwenn[3,1])\n",
    "prediction_7days_swiss['N']=int(X_betwenn[1,6])\n",
    "prediction_7days_swiss['R']=int(X_betwenn[2,6])\n",
    "prediction_7days_swiss['D']=int(X_betwenn[3,6])\n",
    "\n",
    "prediction_2days_swiss.to_csv('S2day_prediction_'+subdate(today)+'.csv')\n",
    "prediction_7days_swiss.to_csv('S7day_prediction_'+subdate(today)+'.csv')\n",
    "subdate(today)"
   ]
  },
  {
   "cell_type": "code",
   "execution_count": 72,
   "metadata": {},
   "outputs": [
    {
     "data": {
      "image/png": "[encoded data removed]",
      "text/plain": [
       "<Figure size 432x288 with 1 Axes>"
      ]
     },
     "metadata": {},
     "output_type": "display_data"
    }
   ],
   "source": [
    "confirmed_swiss=confirmed.iloc[206,4:l]\n",
    "dead_swiss=dead.iloc[206,4:l]\n",
    "recovered_swiss=recovered.iloc[206,4:l]\n",
    "confirmed_swiss\n",
    "time=np.arange(len(confirmed_swiss))\n",
    "new_time=np.arange(time[-1]+1,time[-1]+1+len(X_swiss[1,:]))\n",
    "plt.figure()\n",
    "plt.title('Confirmed Case in Switzerland')\n",
    "plt.xlabel('day after 01-20-2020')\n",
    "plt.ylabel('number of case')\n",
    "plt.plot(time,confirmed_swiss,'b.',label='confirmed')\n",
    "plt.plot(new_time,X_swiss[1,:],'b*',label='prediction')\n",
    "plt.plot(time,dead_swiss,'r.',label='dead')\n",
    "plt.plot(new_time,X_swiss[3,:],'r*',label='prediction')\n",
    "plt.plot(time,recovered_swiss,'g.',label='recovered')\n",
    "plt.plot(new_time,X_swiss[2,:],'g*',label='prediction')\n",
    "plt.legend()\n",
    "plt.xlim(40)\n",
    "plt.show()"
   ]
  },
  {
   "cell_type": "code",
   "execution_count": null,
   "metadata": {},
   "outputs": [],
   "source": [
    "Artemiy2=pd.read_csv('2Day_prediction_'+subdate(today)+'.csv')\n",
    "Artemiy2=Artemiy2.replace(np.nan, '', regex=True)\n",
    "Artemiy30=pd.read_csv('30Day_prediction_'+subdate(today)+'.csv')\n",
    "Artemiy7=pd.read_csv('7Day_prediction_'+subdate(today)+'.csv')\n",
    "Artemiy7=Artemiy7.replace(np.nan, '', regex=True)\n",
    "\n",
    "Auriel2=pd.read_csv('S2day_prediction_'+subdate(today)+'.csv',index_col=0)\n",
    "Auriel7=pd.read_csv('S7day_prediction_'+subdate(today)+'.csv',index_col=0)\n",
    "Auriel2=Auriel2.replace(np.nan, '', regex=True)\n",
    "Auriel7=Auriel7.replace(np.nan, '', regex=True)\n",
    "\n",
    "Auriel2['Target/Date'].astype(str)\n",
    "Auriel7['Target/Date'].astype(str)\n",
    "\n",
    "Artemiy2['Target/Date'].astype(str)\n",
    "Artemiy7['Target/Date'].astype(str)\n",
    "\n",
    "Oriel2=pd.merge(Artemiy2,Auriel2)\n",
    "Oriel7=pd.merge(Artemiy7,Auriel7)\n",
    "\n",
    "Oriel2.to_csv('2day_prediction_'+subdate(today)+'.csv')\n",
    "Oriel7.to_csv('7day_prediction_'+subdate(today)+'.csv')\n",
    "Artemiy30.to_csv('30day_prediction_'+subdate(today)+'.csv')"
   ]
  }
 ],
 "metadata": {
  "kernelspec": {
   "display_name": "Python [conda env:anaconda3] *",
   "language": "python",
   "name": "conda-env-anaconda3-py"
  },
  "language_info": {
   "codemirror_mode": {
    "name": "ipython",
    "version": 3
   },
   "file_extension": ".py",
   "mimetype": "text/x-python",
   "name": "python",
   "nbconvert_exporter": "python",
   "pygments_lexer": "ipython3",
   "version": "3.7.4"
  }
 },
 "nbformat": 4,
 "nbformat_minor": 2
}
